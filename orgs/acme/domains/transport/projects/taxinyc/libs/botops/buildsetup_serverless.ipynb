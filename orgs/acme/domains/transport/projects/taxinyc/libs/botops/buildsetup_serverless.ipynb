{
 "cells": [
  {
   "cell_type": "code",
   "execution_count": 0,
   "metadata": {
    "application/vnd.databricks.v1+cell": {
     "cellMetadata": {},
     "inputWidgets": {},
     "nuid": "0b9f92e0-1e11-47a4-9fa1-29288b7458b4",
     "showTitle": false,
     "tableResultSettingsMap": {},
     "title": ""
    }
   },
   "outputs": [],
   "source": [
    "# Install dependencies\n",
    "# Agent libs used to deploy to databricks\n",
    "%pip install -U -qqqq mlflow backoff databricks-openai databricks-agents uv"
   ]
  },
  {
   "cell_type": "markdown",
   "metadata": {
    "application/vnd.databricks.v1+cell": {
     "cellMetadata": {},
     "inputWidgets": {},
     "nuid": "65fc10a5-5c51-4afb-824e-3cc62b33c025",
     "showTitle": false,
     "tableResultSettingsMap": {},
     "title": ""
    }
   },
   "source": [
    "\n",
    "For reference, working versions for installation:\n",
    "``````bash\n",
    "Collecting brickops==0.3.16\n",
    "  Downloading brickops-0.3.16-py3-none-any.whl.metadata (7.6 kB)\n",
    "Collecting pyyaml>=6.0.2 (from brickops==0.3.16)\n",
    "  Downloading PyYAML-6.0.2-cp311-cp311-manylinux_2_17_x86_64.manylinux2014_x86_64.whl.metadata (2.1 kB)\n",
    "Collecting requests>=2.32.3 (from brickops==0.3.16)\n",
    "  Downloading requests-2.32.3-py3-none-any.whl.metadata (4.6 kB)\n",
    "Requirement already satisfied: charset-normalizer<4,>=2 in /databricks/python3/lib/python3.11/site-packages (from requests>=2.32.3->brickops==0.3.16) (2.0.4)\n",
    "Requirement already satisfied: idna<4,>=2.5 in /databricks/python3/lib/python3.11/site-packages (from requests>=2.32.3->brickops==0.3.16) (3.4)\n",
    "Requirement already satisfied: urllib3<3,>=1.21.1 in /local_disk0/.ephemeral_nfs/envs/pythonEnv-87b3d706-cbfa-4b1c-bd8c-e065b8719bbf/lib/python3.11/site-packages (from requests>=2.32.3->brickops==0.3.16) (2.0.7)\n",
    "Requirement already satisfied: certifi>=2017.4.17 in /databricks/python3/lib/python3.11/site-packages (from requests>=2.32.3->brickops==0.3.16) (2023.7.22)\n",
    "Downloading brickops-0.3.16-py3-none-any.whl (28 kB)\n",
    "Downloading PyYAML-6.0.2-cp311-cp311-manylinux_2_17_x86_64.manylinux2014_x86_64.whl (762 kB)\n",
    "   ━━━━━━━━━━━━━━━━━━━━━━━━━━━━━━━━━━━━━━━━ 0.0/763.0 kB ? eta -:--:--\n",
    "   ━━━━━━━━━━━━━━━━━━━━━━━━━━━━━━━━━━━━━━━━ 763.0/763.0 kB 49.3 MB/s eta 0:00:00\n",
    "Downloading requests-2.32.3-py3-none-any.whl (64 kB)\n",
    "Installing collected packages: requests, pyyaml, brickops\n",
    "  Attempting uninstall: requests\n",
    "    Found existing installation: requests 2.31.0\n",
    "    Not uninstalling requests at /databricks/python3/lib/python3.11/site-packages, outside environment /local_disk0/.ephemeral_nfs/envs/pythonEnv-87b3d706-cbfa-4b1c-bd8c-e065b8719bbf\n",
    "    Can't uninstall 'requests'. No files were found to uninstall.\n",
    "  Attempting uninstall: pyyaml\n",
    "    Found existing installation: PyYAML 6.0\n",
    "    Not uninstalling pyyaml at /databricks/python3/lib/python3.11/site-packages, outside environment /local_disk0/.ephemeral_nfs/envs/pythonEnv-87b3d706-cbfa-4b1c-bd8c-e065b8719bbf\n",
    "    Can't uninstall 'PyYAML'. No files were found to uninstall.\n",
    "Successfully installed brickops-0.3.16 pyyaml-6.0.2 requests-2.32.3\n",
    "Note: you may need to restart the kernel using %restart_python or dbutils.library.restartPython() to use updated packages.\n",
    "``````"
   ]
  },
  {
   "cell_type": "code",
   "execution_count": 0,
   "metadata": {
    "application/vnd.databricks.v1+cell": {
     "cellMetadata": {
      "byteLimit": 2048000,
      "rowLimit": 10000
     },
     "inputWidgets": {},
     "nuid": "eb025a60-1bab-4ce1-8f65-0b001bd331dc",
     "showTitle": false,
     "tableResultSettingsMap": {},
     "title": ""
    }
   },
   "outputs": [],
   "source": [
    "# Brickbots used for dataops and naming\n",
    "%pip install brickops=0.3.16"
   ]
  },
  {
   "cell_type": "code",
   "execution_count": 0,
   "metadata": {
    "application/vnd.databricks.v1+cell": {
     "cellMetadata": {},
     "inputWidgets": {},
     "nuid": "fea31811-4796-4165-8902-9a19904116c5",
     "showTitle": false,
     "tableResultSettingsMap": {},
     "title": ""
    }
   },
   "outputs": [],
   "source": [
    "dbutils.library.restartPython()"
   ]
  },
  {
   "cell_type": "code",
   "execution_count": 0,
   "metadata": {
    "application/vnd.databricks.v1+cell": {
     "cellMetadata": {},
     "inputWidgets": {},
     "nuid": "b610b80f-956e-4314-adab-4d06a9c29d35",
     "showTitle": false,
     "tableResultSettingsMap": {},
     "title": ""
    }
   },
   "outputs": [],
   "source": [
    "# Enable live reloading of libs, not needed now\n",
    "%load_ext autoreload\n",
    "%autoreload 2"
   ]
  }
 ],
 "metadata": {
  "application/vnd.databricks.v1+notebook": {
   "computePreferences": null,
   "dashboards": [],
   "environmentMetadata": {
    "base_environment": "",
    "environment_version": "2"
   },
   "inputWidgetPreferences": null,
   "language": "python",
   "notebookMetadata": {
    "pythonIndentUnit": 4
   },
   "notebookName": "buildsetup_serverless",
   "widgets": {}
  },
  "language_info": {
   "name": "python"
  }
 },
 "nbformat": 4,
 "nbformat_minor": 0
}
